{
 "cells": [
  {
   "cell_type": "markdown",
   "metadata": {},
   "source": [
    "### Connecting to the database using pymysql framework. Fetch relevant data from the table"
   ]
  },
  {
   "cell_type": "markdown",
   "metadata": {},
   "source": [
    "### Create a database"
   ]
  },
  {
   "cell_type": "code",
   "execution_count": 75,
   "metadata": {},
   "outputs": [],
   "source": [
    "import sqlite3\n",
    "from datetime import datetime\n",
    "DATABASE_NAME = \"housing.db\""
   ]
  },
  {
   "cell_type": "code",
   "execution_count": 3,
   "metadata": {},
   "outputs": [],
   "source": [
    "def get_db():\n",
    "    conn = sqlite3.connect(DATABASE_NAME,timeout=5)\n",
    "    return conn"
   ]
  },
  {
   "cell_type": "code",
   "execution_count": 4,
   "metadata": {},
   "outputs": [],
   "source": [
    "db = get_db()\n",
    "cursor = db.cursor()"
   ]
  },
  {
   "cell_type": "code",
   "execution_count": 5,
   "metadata": {},
   "outputs": [
    {
     "name": "stdout",
     "output_type": "stream",
     "text": [
      "(1, 'LinearRegression', 0.5661941509520954, 0.5728939734843519, 0.4404683970955693, 0.5749325857374448, 0.5728939734843519, 0.5723293578982839, '2024-06-19 10:21:31.406721', 'Inactive', 'C:\\\\Users\\\\risha\\\\Program_folder\\\\Projects\\\\Flask_app\\\\house_price_model\\\\19_06_2024_10_20_27_925192\\\\LinearRegression.pkl')\n",
      "(2, 'DecisionTreeRegressor', 0.9988565362988197, 0.7321898099819273, 0.2915631681647003, 0.4552632801918919, 0.7321898099819273, 0.7318357765616414, '2024-06-19 10:21:31.419831', 'Inactive', 'C:\\\\Users\\\\risha\\\\Program_folder\\\\Projects\\\\Flask_app\\\\house_price_model\\\\19_06_2024_10_20_27_925192\\\\DecisionTreeRegressor.pkl')\n",
      "(3, 'RandomForestRegressor', 0.977588802969769, 0.8385459501079268, 0.2260486559605517, 0.35348708089047043, 0.8385459501079268, 0.8383325148779288, '2024-06-19 10:21:31.419831', 'Active', 'C:\\\\Users\\\\risha\\\\Program_folder\\\\Projects\\\\Flask_app\\\\house_price_model\\\\19_06_2024_10_20_27_925192\\\\RandomForestRegressor.pkl')\n",
      "(4, 'GradientBoostingRegressor', 0.8968682396145119, 0.839267507797218, 0.23399395904427808, 0.35269630811329644, 0.839267507797218, 0.8390550264350944, '2024-06-19 10:21:31.419831', 'Inactive', 'C:\\\\Users\\\\risha\\\\Program_folder\\\\Projects\\\\Flask_app\\\\house_price_model\\\\19_06_2024_10_20_27_925192\\\\GradientBoostingRegressor.pkl')\n"
     ]
    }
   ],
   "source": [
    "cursor.execute(\"select * from tbl_model_artifacts\")\n",
    "items = cursor.fetchall()\n",
    "\n",
    "for item in items:\n",
    "    print(item)"
   ]
  },
  {
   "cell_type": "code",
   "execution_count": 6,
   "metadata": {},
   "outputs": [
    {
     "name": "stdout",
     "output_type": "stream",
     "text": [
      "(11, 1, 3, 950, 0.0, 73.0427157, 21.3084889, 97, 2.2854873281981956, 0, 1, 0, 52.52, '2024-07-09 18:57:50.518517', 'individual', 'example@gmail.com')\n"
     ]
    }
   ],
   "source": [
    "cursor.execute(\"select * from tbl_prediction\")\n",
    "items = cursor.fetchall()\n",
    "\n",
    "for item in items:\n",
    "    print(item)"
   ]
  },
  {
   "cell_type": "code",
   "execution_count": 59,
   "metadata": {},
   "outputs": [
    {
     "name": "stdout",
     "output_type": "stream",
     "text": [
      "['id', 'name', 'email', 'pass_word', 'token', 'user_status', 'user_level', 'dt_time']\n"
     ]
    }
   ],
   "source": [
    "# cursor.execute(\"DELETE FROM tbl_prediction\")\n",
    "# db.commit()\n",
    "cursor.execute(\"select * from register_user\")\n",
    "column_names = [desc[0] for desc in cursor.description]\n",
    "\n",
    "print(column_names)"
   ]
  },
  {
   "cell_type": "code",
   "execution_count": 38,
   "metadata": {},
   "outputs": [
    {
     "data": {
      "text/plain": [
       "<sqlite3.Cursor at 0x2711800ddc0>"
      ]
     },
     "execution_count": 38,
     "metadata": {},
     "output_type": "execute_result"
    }
   ],
   "source": [
    "# cursor.execute(\"ALTER TABLE register_user ADD COLUMN name varchar(100)\")"
   ]
  },
  {
   "cell_type": "code",
   "execution_count": 47,
   "metadata": {},
   "outputs": [
    {
     "data": {
      "text/plain": [
       "<sqlite3.Cursor at 0x2711800ddc0>"
      ]
     },
     "execution_count": 47,
     "metadata": {},
     "output_type": "execute_result"
    }
   ],
   "source": [
    "# cursor.execute(\"ALTER TABLE tbl_model_artifacts AUTO_INCREMENT = 1;\")\n",
    "cursor.execute(\"DELETE FROM sqlite_sequence WHERE name='tbl_model_artifacts'\")\n",
    "# db.commit()"
   ]
  },
  {
   "cell_type": "code",
   "execution_count": 67,
   "metadata": {},
   "outputs": [],
   "source": [
    "# Delete a table from the database\n",
    "cursor.execute(\"DROP TABLE property_listings\")\n",
    "db.commit()"
   ]
  },
  {
   "cell_type": "code",
   "execution_count": 52,
   "metadata": {},
   "outputs": [
    {
     "data": {
      "text/plain": [
       "<sqlite3.Cursor at 0x2711800ddc0>"
      ]
     },
     "execution_count": 52,
     "metadata": {},
     "output_type": "execute_result"
    }
   ],
   "source": [
    "table = \"\"\"CREATE TABLE IF NOT EXISTS register_user \n",
    "            (\n",
    "            id INTEGER PRIMARY KEY AUTOINCREMENT,\n",
    "            name varchar(100),\n",
    "            email varchar(100),\n",
    "            pass_word varchar(100),\n",
    "            token varchar(500),\n",
    "            user_status Text,\n",
    "            user_level Text,\n",
    "            dt_time timestamp,\n",
    "            UNIQUE (id ,email)\n",
    "            );\"\"\"\n",
    "# cursor.executescript(table)"
   ]
  },
  {
   "cell_type": "code",
   "execution_count": 69,
   "metadata": {},
   "outputs": [
    {
     "data": {
      "text/plain": [
       "<sqlite3.Cursor at 0x2711800ddc0>"
      ]
     },
     "execution_count": 69,
     "metadata": {},
     "output_type": "execute_result"
    }
   ],
   "source": [
    "table = \"\"\"CREATE TABLE IF NOT EXISTS property_listings \n",
    "        (\n",
    "            property_id INTEGER PRIMARY KEY AUTOINCREMENT,\n",
    "            address TEXT NOT NULL,\n",
    "            city TEXT NOT NULL,\n",
    "            state TEXT NOT NULL,\n",
    "            price REAL NOT NULL,\n",
    "            bedrooms INTEGER NOT NULL,\n",
    "            bathrooms INTEGER NOT NULL,\n",
    "            area_sqft INTEGER NOT NULL,\n",
    "            description TEXT NOT NULL,\n",
    "            dt_posted timestamp,\n",
    "            dt_updated timestamp,\n",
    "            status TEXT NOT NULL DEFAULT 'available',\n",
    "            seller_id TEXT NOT NULL,\n",
    "            seller_contact TEXT NOT NULL,\n",
    "            seller_email TEXT NOT NULL\n",
    "        );\"\"\"\n",
    "cursor.executescript(table)"
   ]
  },
  {
   "cell_type": "code",
   "execution_count": 77,
   "metadata": {},
   "outputs": [
    {
     "name": "stdout",
     "output_type": "stream",
     "text": [
      "(1, 'Malabar Hills', 'Mumbai', 'Maharashtra', 50.0, 3, 2, 1000, 'A comfortable flat located at the heart of natural scenic beauty', '2024-07-12 18:08:27.536362', '2024-07-12 18:08:27.536362', 'available', 'agent', '9579823653', 'asofnow@gmail.com')\n"
     ]
    }
   ],
   "source": [
    "cursor.execute(\"select * from property_listings\")\n",
    "items = cursor.fetchall()\n",
    "\n",
    "for item in items:\n",
    "    print(item)"
   ]
  },
  {
   "cell_type": "code",
   "execution_count": 76,
   "metadata": {},
   "outputs": [],
   "source": [
    "# (1, 'Malabar Hills', 'Mumbai', 'Maharashtra', 50.0, 3, 2, 1000, 'A comfortable flat located at the heart of natural scenic beauty', 'available', 'rishabhsingh5676@gmail.com', '9579823653', 'asofnow@gmail.com')\n",
    "# cursor.execute(\"UPDATE property_listings set name='agent' where id=1\")\n",
    "dt = datetime.now()\n",
    "sql = \"\"\"INSERT INTO property_listings (address, city, state, price, bedrooms, bathrooms, area_sqft, description, dt_posted, dt_updated, status, seller_id, seller_contact, seller_email)\n",
    "                        VALUES (?, ?, ?, ?, ?, ?, ?, ?, ?, ?, ?, ?, ?, ?)\"\"\"\n",
    "cursor.execute(sql, ('Malabar Hills', 'Mumbai', 'Maharashtra', 50.0, 3, 2, 1000, 'A comfortable flat located at the heart of natural scenic beauty', dt, dt, 'available', 'agent', '9579823653', 'asofnow@gmail.com'))\n",
    "db.commit()"
   ]
  },
  {
   "cell_type": "code",
   "execution_count": 63,
   "metadata": {},
   "outputs": [
    {
     "name": "stdout",
     "output_type": "stream",
     "text": [
      "(1, 'admin', 'example@gmail.com', '$pbkdf2-sha256$30000$s9a6t3ZO6R0jxFiLEUIoZQ$bviT01ItAxKDLy66E4KKy0zKC5fPg5V/sAlPxGXa0BQ', 'df30354b-7672-4c04-8d3d-31457b070152', 'approved', 'admin', '2024-07-12 17:32:02.867112')\n",
      "(2, 'agent', 'rishabhsingh5676@gmail.com', '$pbkdf2-sha256$30000$3DtHCMEYgxBCKIXw3ttbqw$0FPjERS81S/pF9mWE1PHteuikRYd5BAal3HzcT/IFrg', '168248ab-22a0-4862-8114-9966bd7667c9', 'approved', 'agent', '2024-07-12 17:35:55.766625')\n"
     ]
    }
   ],
   "source": [
    "cursor.execute(\"select * from register_user\")\n",
    "items = cursor.fetchall()\n",
    "\n",
    "for item in items:\n",
    "    print(item)"
   ]
  },
  {
   "cell_type": "code",
   "execution_count": 64,
   "metadata": {},
   "outputs": [
    {
     "name": "stdout",
     "output_type": "stream",
     "text": [
      "(1, 'admin', 'example@gmail.com', 'approved', 'admin', '2024-07-12')\n",
      "(2, 'agent', 'rishabhsingh5676@gmail.com', 'approved', 'agent', '2024-07-12')\n"
     ]
    }
   ],
   "source": [
    "cursor.execute(\"SELECT id, name, email, user_status, user_level, DATE(dt_time) from register_user\")\n",
    "items = cursor.fetchall()\n",
    "\n",
    "for item in items:\n",
    "    print(item)"
   ]
  },
  {
   "cell_type": "code",
   "execution_count": 10,
   "metadata": {},
   "outputs": [],
   "source": [
    "approval = \"approved\"\n",
    "user_type = \"agent\"\n",
    "user_id = 2\n",
    "update_query = \"UPDATE register_user SET user_status = ?, user_level = ? WHERE id = ?\"\n",
    "cursor.execute(update_query, (approval, user_type, user_id))\n",
    "db.commit()"
   ]
  },
  {
   "cell_type": "code",
   "execution_count": 19,
   "metadata": {},
   "outputs": [],
   "source": [
    "import uuid\n",
    "from passlib.context import CryptContext\n",
    "\n",
    "pwd_context = CryptContext(\n",
    "    schemes=[\"pbkdf2_sha256\"],\n",
    "    default=\"pbkdf2_sha256\",\n",
    "    pbkdf2_sha256__default_rounds=30000\n",
    ")"
   ]
  },
  {
   "cell_type": "code",
   "execution_count": 61,
   "metadata": {},
   "outputs": [],
   "source": [
    "name = \"agent\"\n",
    "user_email = \"rishabhsingh5676@gmail.com\"\n",
    "password = \"12345678\"\n",
    "passw = pwd_context.hash(password)\n",
    "token = str(uuid.uuid4())\n",
    "status = \"approved\"\n",
    "level = \"agent\"\n",
    "dt = datetime.now()"
   ]
  },
  {
   "cell_type": "code",
   "execution_count": 62,
   "metadata": {},
   "outputs": [],
   "source": [
    "query = \"insert into register_user (name, email, pass_word, token, user_status, user_level, dt_time) values (?, ?, ?, ?, ?, ?, ?)\"\n",
    "cursor.execute(query, (name, user_email, passw, token, status, level, dt))\n",
    "db.commit()"
   ]
  },
  {
   "cell_type": "code",
   "execution_count": 40,
   "metadata": {},
   "outputs": [
    {
     "data": {
      "text/plain": [
       "<sqlite3.Cursor at 0x25da372dcc0>"
      ]
     },
     "execution_count": 40,
     "metadata": {},
     "output_type": "execute_result"
    }
   ],
   "source": [
    "table = \"\"\"CREATE TABLE IF NOT EXISTS user_logins \n",
    "            (\n",
    "            id INTEGER PRIMARY KEY AUTOINCREMENT,\n",
    "            email varchar(100) ,\n",
    "            user_level Text,\n",
    "            dt_time timestamp,\n",
    "            UNIQUE (id ,email)\n",
    "            );\"\"\"\n",
    "cursor.executescript(table)"
   ]
  },
  {
   "cell_type": "code",
   "execution_count": 42,
   "metadata": {},
   "outputs": [
    {
     "name": "stdout",
     "output_type": "stream",
     "text": [
      "$pbkdf2-sha256$30000$y/mfU.qdE2KsFWKMUQrhHA$/oy/3R8mRB9dX1smTlIsjULJ51akyT9.5dPqXLtb9/I\n"
     ]
    },
    {
     "data": {
      "text/plain": [
       "True"
      ]
     },
     "execution_count": 42,
     "metadata": {},
     "output_type": "execute_result"
    }
   ],
   "source": [
    "hashed = pwd_context.hash(\"12345678\")\n",
    "print(hashed)\n",
    "pwd_context.verify(\"12345678\", hashed)"
   ]
  },
  {
   "cell_type": "code",
   "execution_count": 2,
   "metadata": {},
   "outputs": [],
   "source": [
    "import joblib\n",
    "with open('city_encoder.pkl', 'rb') as f:\n",
    "    city_encoder = joblib.load(f)"
   ]
  },
  {
   "cell_type": "code",
   "execution_count": 3,
   "metadata": {},
   "outputs": [
    {
     "data": {
      "text/plain": [
       "array(['Bangalore', 'Chandigarh', 'Chennai', 'Faridabad', 'Ghaziabad',\n",
       "       'Gurgaon', 'Jaipur', 'Kolkata', 'Lalitpur', 'Lucknow', 'Mohali',\n",
       "       'Mumbai', 'Nagpur', 'Noida', 'Pune', 'Surat', 'Vadodara'],\n",
       "      dtype=object)"
      ]
     },
     "execution_count": 3,
     "metadata": {},
     "output_type": "execute_result"
    }
   ],
   "source": [
    "city_encoder.classes_"
   ]
  },
  {
   "cell_type": "code",
   "execution_count": null,
   "metadata": {},
   "outputs": [],
   "source": [
    " "
   ]
  }
 ],
 "metadata": {
  "kernelspec": {
   "display_name": "venv",
   "language": "python",
   "name": "python3"
  },
  "language_info": {
   "codemirror_mode": {
    "name": "ipython",
    "version": 3
   },
   "file_extension": ".py",
   "mimetype": "text/x-python",
   "name": "python",
   "nbconvert_exporter": "python",
   "pygments_lexer": "ipython3",
   "version": "3.11.9"
  }
 },
 "nbformat": 4,
 "nbformat_minor": 2
}
